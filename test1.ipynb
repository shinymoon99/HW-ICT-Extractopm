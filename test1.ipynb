{
 "cells": [
  {
   "cell_type": "code",
   "execution_count": 3,
   "metadata": {},
   "outputs": [
    {
     "name": "stdout",
     "output_type": "stream",
     "text": [
      "已将./output/selected_5\\dict_0.txt创建并写入数据。\n",
      "已将./output/selected_5\\dict_1.txt创建并写入数据。\n",
      "已将./output/selected_5\\dict_2.txt创建并写入数据。\n",
      "已将./output/selected_5\\dict_3.txt创建并写入数据。\n",
      "已将./output/selected_5\\dict_4.txt创建并写入数据。\n"
     ]
    }
   ],
   "source": [
    "import os\n",
    "import json\n",
    "\n",
    "# 指定包含JSON文件的目录路径\n",
    "json_dir = './output/selected_5'\n",
    "\n",
    "# 遍历目录下的所有JSON文件\n",
    "for filename in os.listdir(json_dir):\n",
    "    if filename.endswith('.json'):\n",
    "        # 构建完整的文件路径\n",
    "        file_path = os.path.join(json_dir, filename)\n",
    "\n",
    "        # 读取JSON文件\n",
    "        with open(file_path, 'r') as file:\n",
    "            data = json.load(file)\n",
    "\n",
    "        # 构建txt文件的路径\n",
    "        txt_file_path = os.path.splitext(file_path)[0] + '.txt'\n",
    "\n",
    "        # 打开txt文件并写入\"text\"元素\n",
    "        with open(txt_file_path, 'w') as txt_file:\n",
    "            for item in data:\n",
    "                if 'text' in item:\n",
    "                    txt_file.write(item['text'] + '\\n')\n",
    "\n",
    "        print(f\"已将{txt_file_path}创建并写入数据。\")\n"
   ]
  }
 ],
 "metadata": {
  "kernelspec": {
   "display_name": "gplinker_env",
   "language": "python",
   "name": "python3"
  },
  "language_info": {
   "codemirror_mode": {
    "name": "ipython",
    "version": 3
   },
   "file_extension": ".py",
   "mimetype": "text/x-python",
   "name": "python",
   "nbconvert_exporter": "python",
   "pygments_lexer": "ipython3",
   "version": "3.7.16"
  }
 },
 "nbformat": 4,
 "nbformat_minor": 2
}
